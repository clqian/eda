{
 "cells": [
  {
   "cell_type": "code",
   "execution_count": null,
   "metadata": {},
   "outputs": [],
   "source": [
    "import json\n",
    "import pandas as pd\n",
    "\n",
    "data=[]\n",
    "for l in open(\"user.json\").readlines():\n",
    "    data.append(json.loads(l))\n",
    "df = pd.DataFrame.from_records(data)"
   ]
  },
  {
   "cell_type": "code",
   "execution_count": null,
   "metadata": {},
   "outputs": [],
   "source": [
    "elite = df['elite'].str.split(',')\n",
    "elite = elite.map(lambda x : 0 if x[0] == '' else len(x))\n",
    "df['elite'] = elite\n",
    "sorted(list(df['elite'].unique()))"
   ]
  },
  {
   "cell_type": "code",
   "execution_count": null,
   "metadata": {},
   "outputs": [],
   "source": [
    "friends = df['friends'].str.split(',')\n",
    "friends = friends.map(lambda x : 0 if x[0] == '' else len(x))\n",
    "df['friends'] = friends\n",
    "sorted(list(df['friends'].unique()))"
   ]
  },
  {
   "cell_type": "code",
   "execution_count": null,
   "metadata": {},
   "outputs": [],
   "source": [
    "df['yelping_since'].head()"
   ]
  },
  {
   "cell_type": "code",
   "execution_count": null,
   "metadata": {},
   "outputs": [],
   "source": [
    "df['yelping_since'] = df['yelping_since'].str.slice(0,4)\n",
    "df['yelping_since'] = pd.to_numeric(df['yelping_since'], errors='coerce')\n",
    "sorted(list(df['yelping_since'].unique()))"
   ]
  },
  {
   "cell_type": "code",
   "execution_count": null,
   "metadata": {},
   "outputs": [],
   "source": [
    "import matplotlib.pyplot as plt"
   ]
  },
  {
   "cell_type": "code",
   "execution_count": null,
   "metadata": {
    "scrolled": false
   },
   "outputs": [],
   "source": [
    "fig, ax = plt.subplots()\n",
    "ax.boxplot([df[df['yelping_since']==2004]['friends'],\n",
    "           df[df['yelping_since']==2006]['friends'],\n",
    "           df[df['yelping_since']==2008]['friends'],\n",
    "           df[df['yelping_since']==2010]['friends'],\n",
    "           df[df['yelping_since']==2012]['friends'],\n",
    "           df[df['yelping_since']==2014]['friends'],\n",
    "           df[df['yelping_since']==2016]['friends'],\n",
    "           df[df['yelping_since']==2018]['friends']])\n",
    "ax.set_title('Number of Friends by Year Started Yelping')\n",
    "ax.set_xlabel('Year Started Yelping')\n",
    "ax.set_ylabel('Number of Friends')\n",
    "ax.set_xticklabels(['2004', '2006', '2008', '2010', '2012', '2014', '2016', '2018'])"
   ]
  },
  {
   "cell_type": "code",
   "execution_count": null,
   "metadata": {},
   "outputs": [],
   "source": [
    "plt = df.plot.scatter('yelping_since', 'elite', title='Number of Friends by Number of Years as Yelp Elite')\n",
    "plt.set_xlabel('Years as Yelp Elite')\n",
    "plt.set_ylabel('Friends')"
   ]
  }
 ],
 "metadata": {
  "kernelspec": {
   "display_name": "Python 3",
   "language": "python",
   "name": "python3"
  },
  "language_info": {
   "codemirror_mode": {
    "name": "ipython",
    "version": 3
   },
   "file_extension": ".py",
   "mimetype": "text/x-python",
   "name": "python",
   "nbconvert_exporter": "python",
   "pygments_lexer": "ipython3",
   "version": "3.7.3"
  }
 },
 "nbformat": 4,
 "nbformat_minor": 2
}
